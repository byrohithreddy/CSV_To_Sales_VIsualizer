{
 "cells": [
  {
   "cell_type": "code",
   "execution_count": 4,
   "id": "6c62cbcb",
   "metadata": {},
   "outputs": [],
   "source": [
    "import pandas as pd\n",
    "import matplotlib.pyplot as plt\n",
    "import seaborn as sns\n",
    "import gradio as gr\n",
    "from sklearn.linear_model import LinearRegression\n",
    "from sklearn.model_selection import train_test_split\n",
    "from sklearn.metrics import r2_score"
   ]
  },
  {
   "cell_type": "code",
   "execution_count": 5,
   "id": "d8d6b73d",
   "metadata": {},
   "outputs": [],
   "source": [
    "sns.set(style=\"whitegrid\")\n",
    "\n",
    "def visualize_and_predict(csv_file):\n",
    "    df = pd.read_csv(csv_file.name)\n",
    "\n",
    "    # --- Plot 1: Bar plot for average Sales by Ad Medium ---\n",
    "    avg_sales = {\n",
    "        'TV': df['TV'].mean(),\n",
    "        'Radio': df['Radio'].mean(),\n",
    "        'Newspaper': df['Newspaper'].mean()\n",
    "    }\n",
    "\n",
    "    plt.figure(figsize=(6, 4))\n",
    "    plt.bar(avg_sales.keys(), avg_sales.values(), color=['blue', 'green', 'orange'])\n",
    "    plt.title(\"Average Advertising Spend\")\n",
    "    plt.ylabel(\"Amount Spent\")\n",
    "    plot1 = plt.gcf()\n",
    "\n",
    "    # --- Plot 2: Line chart for total ad spend vs Sales trend ---\n",
    "    df['Total_Spend'] = df[['TV', 'Radio', 'Newspaper']].sum(axis=1)\n",
    "    df_sorted = df.sort_values(by='Total_Spend')\n",
    "\n",
    "    plt.figure(figsize=(6, 4))\n",
    "    plt.plot(df_sorted['Total_Spend'], df_sorted['Sales'], marker='o', color='purple')\n",
    "    plt.title(\"Sales vs Total Advertising Spend\")\n",
    "    plt.xlabel(\"Total Ad Spend\")\n",
    "    plt.ylabel(\"Sales\")\n",
    "    plot2 = plt.gcf()\n",
    "\n",
    "    # --- Plot 3: Pie chart of Ad Spend Proportions ---\n",
    "    spend_sum = df[['TV', 'Radio', 'Newspaper']].sum()\n",
    "    plt.figure(figsize=(5, 5))\n",
    "    plt.pie(spend_sum, labels=spend_sum.index, autopct='%1.1f%%', colors=['skyblue', 'lightgreen', 'lightcoral'])\n",
    "    plt.title(\"Ad Spend Distribution\")\n",
    "    plot3 = plt.gcf()\n",
    "\n",
    "    # --- Linear Regression & Prediction Plot ---\n",
    "    X = df[['TV', 'Radio', 'Newspaper']]\n",
    "    y = df['Sales']\n",
    "    X_train, X_test, y_train, y_test = train_test_split(X, y, test_size=0.2, random_state=42)\n",
    "\n",
    "    model = LinearRegression()\n",
    "    model.fit(X_train, y_train)\n",
    "    y_pred = model.predict(X_test)\n",
    "    r2 = r2_score(y_test, y_pred)\n",
    "\n",
    "    plt.figure(figsize=(6, 4))\n",
    "    plt.plot(y_test.values, label='Actual Sales', marker='o')\n",
    "    plt.plot(y_pred, label='Predicted Sales', marker='x')\n",
    "    plt.title(\"Actual vs Predicted Sales\")\n",
    "    plt.xlabel(\"Sample\")\n",
    "    plt.ylabel(\"Sales\")\n",
    "    plt.legend()\n",
    "    plot4 = plt.gcf()\n",
    "\n",
    "    model_info = f\"\"\"🔍 Model Summary:\n",
    "TV Coefficient: {model.coef_[0]:.2f}\n",
    "Radio Coefficient: {model.coef_[1]:.2f}\n",
    "Newspaper Coefficient: {model.coef_[2]:.2f}\n",
    "Intercept: {model.intercept_:.2f}\n",
    "R² Score: {r2:.2f}\n",
    "\"\"\"\n",
    "\n",
    "    return plot1, plot2, plot3, plot4, model_info"
   ]
  },
  {
   "cell_type": "code",
   "execution_count": 6,
   "id": "45ed98e8",
   "metadata": {},
   "outputs": [
    {
     "name": "stdout",
     "output_type": "stream",
     "text": [
      "* Running on local URL:  http://127.0.0.1:7861\n",
      "\n",
      "To create a public link, set `share=True` in `launch()`.\n"
     ]
    },
    {
     "data": {
      "text/html": [
       "<div><iframe src=\"http://127.0.0.1:7861/\" width=\"100%\" height=\"500\" allow=\"autoplay; camera; microphone; clipboard-read; clipboard-write;\" frameborder=\"0\" allowfullscreen></iframe></div>"
      ],
      "text/plain": [
       "<IPython.core.display.HTML object>"
      ]
     },
     "metadata": {},
     "output_type": "display_data"
    },
    {
     "data": {
      "text/plain": []
     },
     "execution_count": 6,
     "metadata": {},
     "output_type": "execute_result"
    }
   ],
   "source": [
    "inputs = gr.File(label=\"📂 Upload CSV with 'TV', 'Radio', 'Newspaper', and 'Sales' columns\")\n",
    "outputs = [\n",
    "    gr.Plot(label=\"📊 Average Advertising Spend (Bar Plot)\"),\n",
    "    gr.Plot(label=\"📈 Sales vs Total Spend (Line Chart)\"),\n",
    "    gr.Plot(label=\"🥧 Ad Spend Distribution (Pie Chart)\"),\n",
    "    gr.Plot(label=\"📉 Actual vs Predicted Sales (Line Chart)\"),\n",
    "    gr.Textbox(label=\"🧠 Model Information\")\n",
    "]\n",
    "\n",
    "gr.Interface(\n",
    "    fn=visualize_and_predict,\n",
    "    inputs=inputs,\n",
    "    outputs=outputs,\n",
    "    title=\"📈 Advertising Analysis & Sales Prediction\",\n",
    "    description=\"Upload a CSV file with columns 'TV', 'Radio', 'Newspaper', and 'Sales'. The app shows user-friendly visualizations and predicts sales.\"\n",
    ").launch()"
   ]
  }
 ],
 "metadata": {
  "kernelspec": {
   "display_name": "Python 3",
   "language": "python",
   "name": "python3"
  },
  "language_info": {
   "codemirror_mode": {
    "name": "ipython",
    "version": 3
   },
   "file_extension": ".py",
   "mimetype": "text/x-python",
   "name": "python",
   "nbconvert_exporter": "python",
   "pygments_lexer": "ipython3",
   "version": "3.13.1"
  }
 },
 "nbformat": 4,
 "nbformat_minor": 5
}
